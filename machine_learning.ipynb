{
 "cells": [
  {
   "cell_type": "markdown",
   "metadata": {},
   "source": [
    "### This script uses different machine learning techniques to predict the failed hard drives at the Delta center in the Netherlands."
   ]
  },
  {
   "cell_type": "code",
   "execution_count": 1,
   "metadata": {
    "collapsed": false
   },
   "outputs": [],
   "source": [
    "import numpy as np\n",
    "import pandas as pd\n",
    "import scipy.stats\n",
    "import matplotlib\n",
    "import matplotlib.pyplot as plt\n",
    "from mpl_toolkits.mplot3d import Axes3D\n",
    "from matplotlib import ticker\n",
    "import seaborn\n",
    "%matplotlib inline\n",
    "\n",
    "## matplotlib settings\n",
    "matplotlib.style.use('ggplot')\n",
    "#plt.rcParams['figure.figsize']=16,10\n",
    "plt.rcParams.update({'font.size': 12, \n",
    "                            'font.family': 'STIXGeneral', \n",
    "                            'mathtext.fontset': 'stix'})\n",
    "# seaborn settings\n",
    "seaborn.set_palette('deep', desat=.6)\n",
    "np.random.seed(123456)\n",
    "# machine learning packages \n",
    "import sklearn\n",
    "from sklearn.ensemble import ExtraTreesClassifier\n",
    "from sklearn.feature_selection import SelectFromModel\n",
    "from sklearn.ensemble import RandomForestClassifier\n",
    "from sklearn.tree import DecisionTreeClassifier\n",
    "from sklearn.linear_model import LogisticRegression\n",
    "from sklearn.svm import LinearSVC\n",
    "from sklearn import metrics\n"
   ]
  },
  {
   "cell_type": "markdown",
   "metadata": {},
   "source": [
    "<b style= \"font-size: 120%;\">\n",
    "Dataset\n",
    "</b>"
   ]
  },
  {
   "cell_type": "code",
   "execution_count": 2,
   "metadata": {
    "collapsed": true
   },
   "outputs": [],
   "source": [
    "# reading data set\n",
    "data= pd.read_csv('hard_drive_data_2015.csv')\n",
    "data= data.drop('Unnamed: 0', 1)\n",
    "data= data.sort_values(by='date')"
   ]
  },
  {
   "cell_type": "code",
   "execution_count": 3,
   "metadata": {
    "collapsed": false
   },
   "outputs": [],
   "source": [
    "column_labels= np.array(['date','serial_number','model','capacity_bytes','failure',\n",
    "                        'Read_error_rate_normalized', 'Read_error_rate_raw',\n",
    "                        'spin-up_time_normalized', 'spin-up_time_raw', \n",
    "                        'Reallocated_sectors_counts_normalized','Reallocated_sectors_counts_raw', \n",
    "                        'Running_time_normalized','Running_time_raw', \n",
    "                        'Power_cycle_count_normalized','Power_cycle_count_raw', \n",
    "                        'Internal_temperature_normalized','Internal_temperature_raw'])\n",
    "data.columns= column_labels"
   ]
  },
  {
   "cell_type": "markdown",
   "metadata": {},
   "source": [
    "One way to look at the problem is by looking at the last properties of  working and failed disks; that is, without taking into account the temporal evolution."
   ]
  },
  {
   "cell_type": "code",
   "execution_count": 4,
   "metadata": {
    "collapsed": false
   },
   "outputs": [],
   "source": [
    "fail= pd.DataFrame(data[data.failure==1]).reset_index()\n",
    "fail= fail.drop('index', axis= 1)"
   ]
  },
  {
   "cell_type": "code",
   "execution_count": 5,
   "metadata": {
    "collapsed": true
   },
   "outputs": [],
   "source": [
    "success= data.groupby(['serial_number']).filter(lambda x: x['failure'].sum()==0) \n",
    "succ= pd.DataFrame(success.groupby(['serial_number']).tail(n=1)).reset_index()\n",
    "succ= succ.drop('index', axis= 1)"
   ]
  },
  {
   "cell_type": "code",
   "execution_count": 6,
   "metadata": {
    "collapsed": false
   },
   "outputs": [],
   "source": [
    "data= pd.concat([fail, succ], ignore_index=True)"
   ]
  },
  {
   "cell_type": "code",
   "execution_count": 7,
   "metadata": {
    "collapsed": false
   },
   "outputs": [
    {
     "data": {
      "text/html": [
       "<div>\n",
       "<table border=\"1\" class=\"dataframe\">\n",
       "  <thead>\n",
       "    <tr style=\"text-align: right;\">\n",
       "      <th></th>\n",
       "      <th>date</th>\n",
       "      <th>serial_number</th>\n",
       "      <th>model</th>\n",
       "      <th>capacity_bytes</th>\n",
       "      <th>failure</th>\n",
       "      <th>Read_error_rate_normalized</th>\n",
       "      <th>Read_error_rate_raw</th>\n",
       "      <th>spin-up_time_normalized</th>\n",
       "      <th>spin-up_time_raw</th>\n",
       "      <th>Reallocated_sectors_counts_normalized</th>\n",
       "      <th>Reallocated_sectors_counts_raw</th>\n",
       "      <th>Running_time_normalized</th>\n",
       "      <th>Running_time_raw</th>\n",
       "      <th>Power_cycle_count_normalized</th>\n",
       "      <th>Power_cycle_count_raw</th>\n",
       "      <th>Internal_temperature_normalized</th>\n",
       "      <th>Internal_temperature_raw</th>\n",
       "    </tr>\n",
       "  </thead>\n",
       "  <tbody>\n",
       "    <tr>\n",
       "      <th>0</th>\n",
       "      <td>2015-01-01</td>\n",
       "      <td>JK11A8B9J7B38F</td>\n",
       "      <td>Hitachi HDS722020ALA330</td>\n",
       "      <td>2.000399e+12</td>\n",
       "      <td>1.0</td>\n",
       "      <td>99.0</td>\n",
       "      <td>65537.0</td>\n",
       "      <td>132.0</td>\n",
       "      <td>620.0</td>\n",
       "      <td>100.0</td>\n",
       "      <td>0.0</td>\n",
       "      <td>96.0</td>\n",
       "      <td>31965.0</td>\n",
       "      <td>100.0</td>\n",
       "      <td>12.0</td>\n",
       "      <td>206.0</td>\n",
       "      <td>29.0</td>\n",
       "    </tr>\n",
       "    <tr>\n",
       "      <th>1</th>\n",
       "      <td>2015-01-02</td>\n",
       "      <td>6XW063P4</td>\n",
       "      <td>ST31500541AS</td>\n",
       "      <td>1.500302e+12</td>\n",
       "      <td>1.0</td>\n",
       "      <td>110.0</td>\n",
       "      <td>25806111.0</td>\n",
       "      <td>100.0</td>\n",
       "      <td>0.0</td>\n",
       "      <td>3.0</td>\n",
       "      <td>3975.0</td>\n",
       "      <td>76.0</td>\n",
       "      <td>21494.0</td>\n",
       "      <td>100.0</td>\n",
       "      <td>40.0</td>\n",
       "      <td>26.0</td>\n",
       "      <td>26.0</td>\n",
       "    </tr>\n",
       "    <tr>\n",
       "      <th>2</th>\n",
       "      <td>2015-01-02</td>\n",
       "      <td>Z3012ABY</td>\n",
       "      <td>ST4000DM000</td>\n",
       "      <td>4.000787e+12</td>\n",
       "      <td>1.0</td>\n",
       "      <td>117.0</td>\n",
       "      <td>123702928.0</td>\n",
       "      <td>94.0</td>\n",
       "      <td>0.0</td>\n",
       "      <td>100.0</td>\n",
       "      <td>16.0</td>\n",
       "      <td>99.0</td>\n",
       "      <td>895.0</td>\n",
       "      <td>100.0</td>\n",
       "      <td>6.0</td>\n",
       "      <td>17.0</td>\n",
       "      <td>17.0</td>\n",
       "    </tr>\n",
       "  </tbody>\n",
       "</table>\n",
       "</div>"
      ],
      "text/plain": [
       "         date   serial_number                    model  capacity_bytes  \\\n",
       "0  2015-01-01  JK11A8B9J7B38F  Hitachi HDS722020ALA330    2.000399e+12   \n",
       "1  2015-01-02        6XW063P4             ST31500541AS    1.500302e+12   \n",
       "2  2015-01-02        Z3012ABY              ST4000DM000    4.000787e+12   \n",
       "\n",
       "   failure  Read_error_rate_normalized  Read_error_rate_raw  \\\n",
       "0      1.0                        99.0              65537.0   \n",
       "1      1.0                       110.0           25806111.0   \n",
       "2      1.0                       117.0          123702928.0   \n",
       "\n",
       "   spin-up_time_normalized  spin-up_time_raw  \\\n",
       "0                    132.0             620.0   \n",
       "1                    100.0               0.0   \n",
       "2                     94.0               0.0   \n",
       "\n",
       "   Reallocated_sectors_counts_normalized  Reallocated_sectors_counts_raw  \\\n",
       "0                                  100.0                             0.0   \n",
       "1                                    3.0                          3975.0   \n",
       "2                                  100.0                            16.0   \n",
       "\n",
       "   Running_time_normalized  Running_time_raw  Power_cycle_count_normalized  \\\n",
       "0                     96.0           31965.0                         100.0   \n",
       "1                     76.0           21494.0                         100.0   \n",
       "2                     99.0             895.0                         100.0   \n",
       "\n",
       "   Power_cycle_count_raw  Internal_temperature_normalized  \\\n",
       "0                   12.0                            206.0   \n",
       "1                   40.0                             26.0   \n",
       "2                    6.0                             17.0   \n",
       "\n",
       "   Internal_temperature_raw  \n",
       "0                      29.0  \n",
       "1                      26.0  \n",
       "2                      17.0  "
      ]
     },
     "execution_count": 7,
     "metadata": {},
     "output_type": "execute_result"
    }
   ],
   "source": [
    "data.head(3)"
   ]
  },
  {
   "cell_type": "markdown",
   "metadata": {},
   "source": [
    "### Feature reduction"
   ]
  },
  {
   "cell_type": "markdown",
   "metadata": {},
   "source": [
    "It is necessary to make a feature selection to generate more robust predictions (because it often increases classification accuracy by eliminating noise features). The feature selection is also ncessary to reduce the computational time when running a particulary expensive model. \n",
    "\n",
    "There are several tecniques to select features in a data set; however, In this analysis I will use Tree-based methods, because they can model non-linear relations between the target variable and the features. "
   ]
  },
  {
   "cell_type": "code",
   "execution_count": 8,
   "metadata": {
    "collapsed": true
   },
   "outputs": [],
   "source": [
    "data= data.drop(['date','serial_number', 'model'], axis=1)"
   ]
  },
  {
   "cell_type": "code",
   "execution_count": 9,
   "metadata": {
    "collapsed": false
   },
   "outputs": [
    {
     "data": {
      "text/html": [
       "<div>\n",
       "<table border=\"1\" class=\"dataframe\">\n",
       "  <thead>\n",
       "    <tr style=\"text-align: right;\">\n",
       "      <th></th>\n",
       "      <th>capacity_bytes</th>\n",
       "      <th>failure</th>\n",
       "      <th>Read_error_rate_normalized</th>\n",
       "      <th>Read_error_rate_raw</th>\n",
       "      <th>spin-up_time_normalized</th>\n",
       "      <th>spin-up_time_raw</th>\n",
       "      <th>Reallocated_sectors_counts_normalized</th>\n",
       "      <th>Reallocated_sectors_counts_raw</th>\n",
       "      <th>Running_time_normalized</th>\n",
       "      <th>Running_time_raw</th>\n",
       "      <th>Power_cycle_count_normalized</th>\n",
       "      <th>Power_cycle_count_raw</th>\n",
       "      <th>Internal_temperature_normalized</th>\n",
       "      <th>Internal_temperature_raw</th>\n",
       "    </tr>\n",
       "  </thead>\n",
       "  <tbody>\n",
       "    <tr>\n",
       "      <th>0</th>\n",
       "      <td>2.000399e+12</td>\n",
       "      <td>1.0</td>\n",
       "      <td>99.0</td>\n",
       "      <td>65537.0</td>\n",
       "      <td>132.0</td>\n",
       "      <td>620.0</td>\n",
       "      <td>100.0</td>\n",
       "      <td>0.0</td>\n",
       "      <td>96.0</td>\n",
       "      <td>31965.0</td>\n",
       "      <td>100.0</td>\n",
       "      <td>12.0</td>\n",
       "      <td>206.0</td>\n",
       "      <td>29.0</td>\n",
       "    </tr>\n",
       "    <tr>\n",
       "      <th>1</th>\n",
       "      <td>1.500302e+12</td>\n",
       "      <td>1.0</td>\n",
       "      <td>110.0</td>\n",
       "      <td>25806111.0</td>\n",
       "      <td>100.0</td>\n",
       "      <td>0.0</td>\n",
       "      <td>3.0</td>\n",
       "      <td>3975.0</td>\n",
       "      <td>76.0</td>\n",
       "      <td>21494.0</td>\n",
       "      <td>100.0</td>\n",
       "      <td>40.0</td>\n",
       "      <td>26.0</td>\n",
       "      <td>26.0</td>\n",
       "    </tr>\n",
       "    <tr>\n",
       "      <th>2</th>\n",
       "      <td>4.000787e+12</td>\n",
       "      <td>1.0</td>\n",
       "      <td>117.0</td>\n",
       "      <td>123702928.0</td>\n",
       "      <td>94.0</td>\n",
       "      <td>0.0</td>\n",
       "      <td>100.0</td>\n",
       "      <td>16.0</td>\n",
       "      <td>99.0</td>\n",
       "      <td>895.0</td>\n",
       "      <td>100.0</td>\n",
       "      <td>6.0</td>\n",
       "      <td>17.0</td>\n",
       "      <td>17.0</td>\n",
       "    </tr>\n",
       "  </tbody>\n",
       "</table>\n",
       "</div>"
      ],
      "text/plain": [
       "   capacity_bytes  failure  Read_error_rate_normalized  Read_error_rate_raw  \\\n",
       "0    2.000399e+12      1.0                        99.0              65537.0   \n",
       "1    1.500302e+12      1.0                       110.0           25806111.0   \n",
       "2    4.000787e+12      1.0                       117.0          123702928.0   \n",
       "\n",
       "   spin-up_time_normalized  spin-up_time_raw  \\\n",
       "0                    132.0             620.0   \n",
       "1                    100.0               0.0   \n",
       "2                     94.0               0.0   \n",
       "\n",
       "   Reallocated_sectors_counts_normalized  Reallocated_sectors_counts_raw  \\\n",
       "0                                  100.0                             0.0   \n",
       "1                                    3.0                          3975.0   \n",
       "2                                  100.0                            16.0   \n",
       "\n",
       "   Running_time_normalized  Running_time_raw  Power_cycle_count_normalized  \\\n",
       "0                     96.0           31965.0                         100.0   \n",
       "1                     76.0           21494.0                         100.0   \n",
       "2                     99.0             895.0                         100.0   \n",
       "\n",
       "   Power_cycle_count_raw  Internal_temperature_normalized  \\\n",
       "0                   12.0                            206.0   \n",
       "1                   40.0                             26.0   \n",
       "2                    6.0                             17.0   \n",
       "\n",
       "   Internal_temperature_raw  \n",
       "0                      29.0  \n",
       "1                      26.0  \n",
       "2                      17.0  "
      ]
     },
     "execution_count": 9,
     "metadata": {},
     "output_type": "execute_result"
    }
   ],
   "source": [
    "data.head(3)"
   ]
  },
  {
   "cell_type": "code",
   "execution_count": 10,
   "metadata": {
    "collapsed": true
   },
   "outputs": [],
   "source": [
    "def plot_features(feat, std, index, columns):\n",
    "    \n",
    "        num_cols= len(columns) # total columns in the dataframe\n",
    "       \n",
    "        plt.figure(figsize= (6,6))\n",
    "        plt.barh(range(num_cols), feat[index], \n",
    "                 color=\"r\", xerr=std[index], align=\"center\")\n",
    "        #plt.xticks(range(X.shape[1]), indices)\n",
    "        #plt.xlim([-1, X.shape[1]])\n",
    "        plt.xlim(0, 1.2*max(feat))\n",
    "        plt.yticks(range(num_cols), columns[index])\n",
    "        plt.xlabel(\"Feature importance\", fontsize=20)\n",
    "        plt.savefig('feature_selection_with_tree.pdf', bbox_inches= 'tight')\n",
    "        plt.show()\n",
    "            \n",
    "\n",
    "        # write these results in the final report\n",
    "        print(\"Feature ranking:\")\n",
    "        for f in range(num_cols):\n",
    "            print(\"feature %d (%f)\"%(index[f], feat[index[f]]))"
   ]
  },
  {
   "cell_type": "code",
   "execution_count": 11,
   "metadata": {
    "collapsed": true
   },
   "outputs": [],
   "source": [
    "def select_features_with_tree(df, estimators= 100):\n",
    "    '''\n",
    "    Input: dataset\n",
    "    output: X, y with reduced features\n",
    "    '''\n",
    "    X= df.drop('failure', axis= 1) # removing target variable from dataset\n",
    "    y= df.failure.copy()\n",
    "    \n",
    "    cols= X.columns\n",
    "    ncols= len(cols)\n",
    "    \n",
    "    forest = ExtraTreesClassifier(n_estimators= estimators, random_state=0, \n",
    "                                 max_depth= 10, min_samples_leaf=5)\n",
    "    forest.fit(X,y)\n",
    "    features= forest.feature_importances_\n",
    "    # each estimator has a feature importance\n",
    "    std = np.std([tree.feature_importances_ for tree in forest.estimators_],\n",
    "             axis=0)\n",
    "    # order of importance\n",
    "    indices = np.argsort(features)[::-1] \n",
    "    \n",
    "    # reduce df to the most important features\n",
    "    model= SelectFromModel(forest, prefit=True)\n",
    "    columns= [j for i, j in enumerate(cols)  if (model.get_support()[i]== True)]\n",
    "    X_redu= pd.DataFrame(model.transform(X), columns= columns)\n",
    "    y_redu= y\n",
    "    \n",
    "    plot_features(features, std, indices, cols)\n",
    "    \n",
    "    return X_redu, y_redu"
   ]
  },
  {
   "cell_type": "code",
   "execution_count": 12,
   "metadata": {
    "collapsed": false
   },
   "outputs": [
    {
     "data": {
      "image/png": "[encoded data removed]",
      "text/plain": [
       "<matplotlib.figure.Figure at 0x17e55abe0>"
      ]
     },
     "metadata": {},
     "output_type": "display_data"
    },
    {
     "name": "stdout",
     "output_type": "stream",
     "text": [
      "Feature ranking:\n",
      "feature 5 (0.272355)\n",
      "feature 6 (0.233044)\n",
      "feature 1 (0.112491)\n",
      "feature 7 (0.073909)\n",
      "feature 0 (0.072422)\n",
      "feature 2 (0.070425)\n",
      "feature 8 (0.061731)\n",
      "feature 11 (0.033361)\n",
      "feature 4 (0.024020)\n",
      "feature 3 (0.019501)\n",
      "feature 10 (0.013420)\n",
      "feature 12 (0.013321)\n",
      "feature 9 (0.000000)\n"
     ]
    }
   ],
   "source": [
    "X_reduced, y_reduced= select_features_with_tree(data, estimators= 100)"
   ]
  },
  {
   "cell_type": "markdown",
   "metadata": {},
   "source": [
    "### Select a train and test sets"
   ]
  },
  {
   "cell_type": "code",
   "execution_count": 13,
   "metadata": {
    "collapsed": false
   },
   "outputs": [
    {
     "name": "stdout",
     "output_type": "stream",
     "text": [
      "(44029, 3)\n",
      "(18870, 3)\n",
      "(44029,)\n",
      "(18870,)\n"
     ]
    }
   ],
   "source": [
    "X_train, X_test, y_train, y_test = sklearn.cross_validation.train_test_split(\n",
    "    X_reduced, y_reduced, test_size=0.3, random_state = 5)\n",
    "print (X_train.shape)\n",
    "print (X_test.shape)\n",
    "print (y_train.shape)\n",
    "print (y_test.shape) "
   ]
  },
  {
   "cell_type": "markdown",
   "metadata": {},
   "source": [
    "## Fraction of failed and working disks: \n",
    "### (Unbalanced sample)"
   ]
  },
  {
   "cell_type": "code",
   "execution_count": 14,
   "metadata": {
    "collapsed": false
   },
   "outputs": [],
   "source": [
    "y_train.index= X_train.index\n",
    "unbalanced_set= pd.concat([X_train, y_train], axis=1)"
   ]
  },
  {
   "cell_type": "code",
   "execution_count": 15,
   "metadata": {
    "collapsed": false
   },
   "outputs": [
    {
     "name": "stdout",
     "output_type": "stream",
     "text": [
      "Fraction of failed disks: 0.022825864770946423 %\n",
      "Fraction of working disks: 0.9771741352290536 %\n"
     ]
    }
   ],
   "source": [
    "sd= np.shape(unbalanced_set.ix[unbalanced_set.failure==0])[0]\n",
    "fd= np.shape(unbalanced_set.ix[unbalanced_set.failure==1])[0]\n",
    "tot= sd+fd\n",
    "print ('Fraction of failed disks:', fd/tot, '%')\n",
    "print ('Fraction of working disks:', sd/tot, '%')"
   ]
  },
  {
   "cell_type": "markdown",
   "metadata": {},
   "source": [
    "<p style= \"font-size: 120%;\">\n",
    "Clearly this is an unbalanced classification problem. This is solved by: <br> \n",
    "1. Oversampling the minority class. <br>\n",
    "2. Undersampling the majority class. \n",
    "</p>"
   ]
  },
  {
   "cell_type": "markdown",
   "metadata": {},
   "source": [
    "<b style= \"font-size: 140%;\">\n",
    "a. Oversampling:\n",
    "</b>\n",
    "\n",
    "The oversampling is done such that the percentages of the failed and working disks in the new sample will be 40% and 60% respectively."
   ]
  },
  {
   "cell_type": "code",
   "execution_count": 16,
   "metadata": {
    "collapsed": true
   },
   "outputs": [],
   "source": [
    "def get_oversampled_set(df, target_variable= 'failure', frac_minority= 0.4, frac_mayority=0.6):\n",
    "    minority_class= df.ix[df[target_variable]== 1]\n",
    "    mayority_class= df.ix[df[target_variable]== 0]\n",
    "    num_elements= (frac_minority/frac_mayority)*np.shape(mayority_class)[0]\n",
    "    minority_class= minority_class.sample(n=int(num_elements), replace=True, random_state= 123456)\n",
    "    new_sample= pd.concat([minority_class, mayority_class])\n",
    "    \n",
    "    maj= mayority_class.shape[0] \n",
    "    print ('Fraction of failed disks after oversampling:', num_elements/(num_elements+maj) )\n",
    "    print ('Fraction of working disks after oversampling:', maj/(num_elements+maj) )\n",
    "    return new_sample\n",
    "    "
   ]
  },
  {
   "cell_type": "code",
   "execution_count": 17,
   "metadata": {
    "collapsed": false
   },
   "outputs": [
    {
     "name": "stdout",
     "output_type": "stream",
     "text": [
      "Fraction of failed disks after oversampling: 0.4\n",
      "Fraction of working disks after oversampling: 0.6\n"
     ]
    }
   ],
   "source": [
    "oversampled_set= get_oversampled_set(unbalanced_set)"
   ]
  },
  {
   "cell_type": "code",
   "execution_count": 18,
   "metadata": {
    "collapsed": false
   },
   "outputs": [],
   "source": [
    "X_oversampled= oversampled_set.drop('failure', axis=1)\n",
    "y_oversampled= oversampled_set.failure.copy()"
   ]
  },
  {
   "cell_type": "markdown",
   "metadata": {},
   "source": [
    "###  a1. Building the prediction model\n",
    "To be consistent with the procedure carried out to make a feature selection, I will use a random forest classifier on the balanced set to predict the disks that fail."
   ]
  },
  {
   "cell_type": "code",
   "execution_count": 19,
   "metadata": {
    "collapsed": true
   },
   "outputs": [],
   "source": [
    "model = RandomForestClassifier(n_estimators=200, \n",
    "                               oob_score=True, \n",
    "                               min_samples_leaf=5, \n",
    "                               max_depth=10)\n"
   ]
  },
  {
   "cell_type": "code",
   "execution_count": 20,
   "metadata": {
    "collapsed": false
   },
   "outputs": [
    {
     "data": {
      "text/plain": [
       "RandomForestClassifier(bootstrap=True, class_weight=None, criterion='gini',\n",
       "            max_depth=10, max_features='auto', max_leaf_nodes=None,\n",
       "            min_samples_leaf=5, min_samples_split=2,\n",
       "            min_weight_fraction_leaf=0.0, n_estimators=200, n_jobs=1,\n",
       "            oob_score=True, random_state=None, verbose=0, warm_start=False)"
      ]
     },
     "execution_count": 20,
     "metadata": {},
     "output_type": "execute_result"
    }
   ],
   "source": [
    "model.fit(X_oversampled, y_oversampled)"
   ]
  },
  {
   "cell_type": "code",
   "execution_count": 21,
   "metadata": {
    "collapsed": false
   },
   "outputs": [],
   "source": [
    "prediction= model.predict(X_test)"
   ]
  },
  {
   "cell_type": "code",
   "execution_count": 22,
   "metadata": {
    "collapsed": true
   },
   "outputs": [],
   "source": [
    "pred_probabilities = model.predict_proba(X_test)"
   ]
  },
  {
   "cell_type": "markdown",
   "metadata": {},
   "source": [
    "### How good the model is?"
   ]
  },
  {
   "cell_type": "markdown",
   "metadata": {},
   "source": [
    "### Area under the curve (AUC) and ROC curves"
   ]
  },
  {
   "cell_type": "code",
   "execution_count": 23,
   "metadata": {
    "collapsed": false
   },
   "outputs": [],
   "source": [
    "AUC= metrics.roc_auc_score(y_test, pred_probabilities[:,1])"
   ]
  },
  {
   "cell_type": "code",
   "execution_count": 24,
   "metadata": {
    "collapsed": false
   },
   "outputs": [],
   "source": [
    "fpr, tpr, thresholds = metrics.roc_curve(y_test, pred_probabilities[:,1])"
   ]
  },
  {
   "cell_type": "code",
   "execution_count": 25,
   "metadata": {
    "collapsed": false
   },
   "outputs": [
    {
     "data": {
      "image/png": "[encoded data removed]",
      "text/plain": [
       "<matplotlib.figure.Figure at 0x11c9301d0>"
      ]
     },
     "metadata": {},
     "output_type": "display_data"
    }
   ],
   "source": [
    "fig= plt.figure(figsize=(6,6))\n",
    "ax= fig.add_subplot(111)\n",
    "ax.fill(fpr, tpr, alpha= 0.3)\n",
    "ax.fill_between(np.linspace(0,1, 10), np.linspace(0,1,10), alpha= 0.3)\n",
    "ax.plot([0,1], [0,1], 'g--' )\n",
    "ax.set_title('ROC curve with AUC= %.2f'%AUC)\n",
    "ax.set_xlabel('False Positive rate (FPR)')\n",
    "ax.set_ylabel('TruePositive rate (TPR)');\n",
    "plt.savefig('ROC_oversampling.pdf', bbox_inches='tight')"
   ]
  },
  {
   "cell_type": "markdown",
   "metadata": {
    "collapsed": true
   },
   "source": [
    "### Precision and Recall"
   ]
  },
  {
   "cell_type": "code",
   "execution_count": 26,
   "metadata": {
    "collapsed": false
   },
   "outputs": [
    {
     "name": "stdout",
     "output_type": "stream",
     "text": [
      "True positive rate: 0.41134751773\n",
      "False positive rate: 0.103818615752\n"
     ]
    }
   ],
   "source": [
    "precision = metrics.precision_score(y_test, prediction)\n",
    "recall = metrics.recall_score(y_test, prediction)\n",
    "print ('True positive rate:', recall)\n",
    "print ('False positive rate:', precision)"
   ]
  },
  {
   "cell_type": "code",
   "execution_count": 54,
   "metadata": {
    "collapsed": false
   },
   "outputs": [
    {
     "data": {
      "text/plain": [
       "array([[16945,  1502],\n",
       "       [  249,   174]])"
      ]
     },
     "execution_count": 54,
     "metadata": {},
     "output_type": "execute_result"
    }
   ],
   "source": [
    "metrics.confusion_matrix(y_test, prediction)"
   ]
  },
  {
   "cell_type": "code",
   "execution_count": 55,
   "metadata": {
    "collapsed": false
   },
   "outputs": [
    {
     "name": "stdout",
     "output_type": "stream",
     "text": [
      "failed disks: (423,)\n",
      "working disks: (18447,)\n"
     ]
    }
   ],
   "source": [
    "print ('failed disks:', np.shape(y_test[y_test==1]) )\n",
    "print ('working disks:', np.shape(y_test[y_test==0]) )"
   ]
  },
  {
   "cell_type": "markdown",
   "metadata": {},
   "source": [
    "<b style= \"font-size: 140%;\">\n",
    "b. Subsampling:\n",
    "</b>\n"
   ]
  },
  {
   "cell_type": "code",
   "execution_count": 27,
   "metadata": {
    "collapsed": false
   },
   "outputs": [],
   "source": [
    "def get_subsampled_set(df, target_variable= 'failure', frac_minority= 0.4, frac_mayority=0.6):\n",
    "    minority_class= df.ix[df[target_variable]== 1]\n",
    "    mayority_class= df.ix[df[target_variable]== 0]\n",
    "    num_elements= (frac_mayority/frac_minority)*np.shape(minority_class)[0]\n",
    "    mayority_class= mayority_class.sample(n=int(num_elements), random_state= 123456)\n",
    "    new_sample= pd.concat([minority_class, mayority_class])\n",
    "    \n",
    "    minu= minority_class.shape[0] \n",
    "    print ('Fraction of failed disks after subsampling:', minu/(num_elements+minu) )\n",
    "    print ('Fraction of working disks after subsampling:', num_elements/(num_elements+minu) )\n",
    "    return new_sample"
   ]
  },
  {
   "cell_type": "code",
   "execution_count": 28,
   "metadata": {
    "collapsed": false
   },
   "outputs": [
    {
     "name": "stdout",
     "output_type": "stream",
     "text": [
      "Fraction of failed disks after subsampling: 0.4\n",
      "Fraction of working disks after subsampling: 0.5999999999999999\n"
     ]
    }
   ],
   "source": [
    "subsampled_set= get_subsampled_set(unbalanced_set)"
   ]
  },
  {
   "cell_type": "code",
   "execution_count": 29,
   "metadata": {
    "collapsed": true
   },
   "outputs": [],
   "source": [
    "X_subsampled= subsampled_set.drop('failure', axis=1)\n",
    "y_subsampled= subsampled_set.failure.copy()"
   ]
  },
  {
   "cell_type": "markdown",
   "metadata": {
    "collapsed": true
   },
   "source": [
    "###  b1. Building the prediction model"
   ]
  },
  {
   "cell_type": "code",
   "execution_count": 30,
   "metadata": {
    "collapsed": false
   },
   "outputs": [],
   "source": [
    "model1 = RandomForestClassifier(n_estimators=200, \n",
    "                               oob_score=True, \n",
    "                               min_samples_leaf=5, \n",
    "                               max_depth=10)"
   ]
  },
  {
   "cell_type": "code",
   "execution_count": 31,
   "metadata": {
    "collapsed": false
   },
   "outputs": [
    {
     "data": {
      "text/plain": [
       "RandomForestClassifier(bootstrap=True, class_weight=None, criterion='gini',\n",
       "            max_depth=10, max_features='auto', max_leaf_nodes=None,\n",
       "            min_samples_leaf=5, min_samples_split=2,\n",
       "            min_weight_fraction_leaf=0.0, n_estimators=200, n_jobs=1,\n",
       "            oob_score=True, random_state=None, verbose=0, warm_start=False)"
      ]
     },
     "execution_count": 31,
     "metadata": {},
     "output_type": "execute_result"
    }
   ],
   "source": [
    "model1.fit(X_subsampled, y_subsampled)"
   ]
  },
  {
   "cell_type": "code",
   "execution_count": 32,
   "metadata": {
    "collapsed": true
   },
   "outputs": [],
   "source": [
    "prediction1= model1.predict(X_test)"
   ]
  },
  {
   "cell_type": "code",
   "execution_count": 33,
   "metadata": {
    "collapsed": true
   },
   "outputs": [],
   "source": [
    "pred_probabilities1 = model1.predict_proba(X_test)"
   ]
  },
  {
   "cell_type": "markdown",
   "metadata": {},
   "source": [
    "### How good the model is?"
   ]
  },
  {
   "cell_type": "markdown",
   "metadata": {},
   "source": [
    "### Area under the curve (AUC) and ROC curves"
   ]
  },
  {
   "cell_type": "code",
   "execution_count": 34,
   "metadata": {
    "collapsed": true
   },
   "outputs": [],
   "source": [
    "AUC1= metrics.roc_auc_score(y_test, pred_probabilities1[:,1])"
   ]
  },
  {
   "cell_type": "code",
   "execution_count": 35,
   "metadata": {
    "collapsed": true
   },
   "outputs": [],
   "source": [
    "fpr1, tpr1, thresholds1 = metrics.roc_curve(y_test, pred_probabilities1[:,1])"
   ]
  },
  {
   "cell_type": "code",
   "execution_count": 36,
   "metadata": {
    "collapsed": false
   },
   "outputs": [
    {
     "data": {
      "image/png": "[encoded data removed]",
      "text/plain": [
       "<matplotlib.figure.Figure at 0x11ca9b278>"
      ]
     },
     "metadata": {},
     "output_type": "display_data"
    }
   ],
   "source": [
    "fig= plt.figure(figsize=(6,6))\n",
    "ax= fig.add_subplot(111)\n",
    "ax.fill(fpr1, tpr1, alpha= 0.3)\n",
    "ax.fill_between(np.linspace(0,1, 10), np.linspace(0,1,10), alpha= 0.3)\n",
    "ax.plot([0,1], [0,1], 'g--' )\n",
    "ax.set_title('ROC curve with AUC= %.2f'%AUC1)\n",
    "ax.set_xlabel('False Positive rate (FPR)')\n",
    "ax.set_ylabel('TruePositive rate (TPR)');\n",
    "plt.savefig('ROC_subsampling.pdf', bbox_inches='tight')"
   ]
  },
  {
   "cell_type": "markdown",
   "metadata": {},
   "source": [
    "### Precision and Recall"
   ]
  },
  {
   "cell_type": "code",
   "execution_count": 37,
   "metadata": {
    "collapsed": false
   },
   "outputs": [
    {
     "name": "stdout",
     "output_type": "stream",
     "text": [
      "True positive rate: 0.437352245863\n",
      "False positive rate: 0.106998264893\n"
     ]
    }
   ],
   "source": [
    "precision1 = metrics.precision_score(y_test, prediction1)\n",
    "recall1 = metrics.recall_score(y_test, prediction1)\n",
    "print ('True positive rate:', recall1)\n",
    "print ('False positive rate:', precision1)"
   ]
  },
  {
   "cell_type": "markdown",
   "metadata": {},
   "source": [
    "<b style= \"font-size: 140%;\">\n",
    "c. Subsampling with Bootstrap aggregating (bagging):\n",
    "</b>\n",
    "\n"
   ]
  },
  {
   "cell_type": "code",
   "execution_count": 38,
   "metadata": {
    "collapsed": true
   },
   "outputs": [],
   "source": [
    "def get_subsampled_bootstrap(df, target_variable= 'failure'):\n",
    "    rand= int(34456*np.random.rand())\n",
    "    df= df.sample(n= df.shape[0], replace=True, \n",
    "                  random_state= rand )\n",
    "    \n",
    "    minority_class= df.ix[df[target_variable]== 1]\n",
    "    minority_elements= minority_class.shape[0]\n",
    "    mayority_class= df.ix[df[target_variable]== 0]\n",
    "    mayority_class= mayority_class.sample(minority_elements)\n",
    "    new_sample= pd.concat([minority_class, mayority_class])\n",
    "    return new_sample"
   ]
  },
  {
   "cell_type": "code",
   "execution_count": 39,
   "metadata": {
    "collapsed": true
   },
   "outputs": [],
   "source": [
    "def bagging(df, x_test, y_test, n_iter= 100):\n",
    "    # generate boostraped and balanced subsamples of df\n",
    "    model_list=[]\n",
    "    for i in range(1, n_iter+1):\n",
    "        subsample= get_subsampled_bootstrap(df)\n",
    "        X_subsampled= subsampled_set.drop('failure', axis=1)\n",
    "        y_subsampled= subsampled_set.failure.copy()\n",
    "        tree = DecisionTreeClassifier(max_depth=10,\n",
    "                                       min_samples_leaf=5)\n",
    "        tree.fit(X_subsampled, y_subsampled)\n",
    "        model_list.append(tree)\n",
    "        \n",
    "    # make a prediction for n_iter models\n",
    "    predictions= pd.DataFrame()\n",
    "    pred_proba= pd.DataFrame()\n",
    "    for i, model in enumerate(model_list):\n",
    "        prediction= model.predict(x_test)\n",
    "        col= 'prediction_'+str(i)\n",
    "        predictions[col]= prediction\n",
    "        \n",
    "        pred_prob= model.predict_proba(x_test)\n",
    "        proba_df= pd.DataFrame(pred_prob)\n",
    "        col= 'prediction_proba_'+str(i)\n",
    "        pred_proba[col]= proba_df[1]\n",
    "        \n",
    "    # aggregate the results\n",
    "    predictions['avg']= predictions.mean(axis=1)\n",
    "    predictions['final_prediction']= predictions.mode(axis=1)[0]\n",
    "    predictions['actual_value']= y_test.values\n",
    "    \n",
    "    pred_proba['avg']= pred_proba.mean(axis=1)\n",
    "    \n",
    "    return predictions, pred_proba"
   ]
  },
  {
   "cell_type": "code",
   "execution_count": 40,
   "metadata": {
    "collapsed": false
   },
   "outputs": [],
   "source": [
    "predictions, probabilities = bagging(unbalanced_set, X_test, y_test)"
   ]
  },
  {
   "cell_type": "markdown",
   "metadata": {},
   "source": [
    "### Area under the curve (AUC) and ROC curves"
   ]
  },
  {
   "cell_type": "code",
   "execution_count": null,
   "metadata": {
    "collapsed": true
   },
   "outputs": [],
   "source": []
  },
  {
   "cell_type": "code",
   "execution_count": 41,
   "metadata": {
    "collapsed": false
   },
   "outputs": [
    {
     "data": {
      "text/plain": [
       "0.76553985534688163"
      ]
     },
     "execution_count": 41,
     "metadata": {},
     "output_type": "execute_result"
    }
   ],
   "source": [
    "#AUC_bagg= metrics.roc_auc_score(predictions.actual_value, predictions.avg)\n",
    "AUC_bagg= metrics.roc_auc_score(predictions.actual_value, \n",
    "                               probabilities.avg)\n",
    "AUC_bagg"
   ]
  },
  {
   "cell_type": "code",
   "execution_count": 42,
   "metadata": {
    "collapsed": false
   },
   "outputs": [],
   "source": [
    "fprb, tprb, thresholdsb = metrics.roc_curve(predictions.actual_value,\n",
    "                                            probabilities.avg)"
   ]
  },
  {
   "cell_type": "code",
   "execution_count": 43,
   "metadata": {
    "collapsed": false
   },
   "outputs": [
    {
     "data": {
      "image/png": "[encoded data removed]",
      "text/plain": [
       "<matplotlib.figure.Figure at 0x15a00c4e0>"
      ]
     },
     "metadata": {},
     "output_type": "display_data"
    }
   ],
   "source": [
    "fig= plt.figure(figsize=(6,6))\n",
    "ax= fig.add_subplot(111)\n",
    "ax.fill(fprb, tprb, alpha= 0.3)\n",
    "ax.fill_between(np.linspace(0,1, 10), np.linspace(0,1,10), alpha= 0.3)\n",
    "ax.plot([0,1], [0,1], 'g--' )\n",
    "ax.set_title('ROC curve with AUC= %.2f'%AUC_bagg)\n",
    "ax.set_xlabel('False Positive rate (FPR)')\n",
    "ax.set_ylabel('TruePositive rate (TPR)');\n",
    "plt.savefig('ROC_bagging.pdf', bbox_inches='tight')"
   ]
  },
  {
   "cell_type": "markdown",
   "metadata": {},
   "source": [
    "### Precision and Recall"
   ]
  },
  {
   "cell_type": "code",
   "execution_count": 44,
   "metadata": {
    "collapsed": false
   },
   "outputs": [
    {
     "name": "stdout",
     "output_type": "stream",
     "text": [
      "True positive rate: 0.430260047281\n",
      "False positive rate: 0.102477477477\n"
     ]
    }
   ],
   "source": [
    "precisionb = metrics.precision_score(predictions.actual_value, \n",
    "                                     predictions.final_prediction)\n",
    "recallb = metrics.recall_score(predictions.actual_value, \n",
    "                               predictions.final_prediction)\n",
    "print ('True positive rate:', recallb)\n",
    "print ('False positive rate:', precisionb)"
   ]
  },
  {
   "cell_type": "code",
   "execution_count": null,
   "metadata": {
    "collapsed": false
   },
   "outputs": [],
   "source": []
  },
  {
   "cell_type": "markdown",
   "metadata": {},
   "source": [
    "## Predictions of failed disks for the first week of 2016"
   ]
  },
  {
   "cell_type": "code",
   "execution_count": 45,
   "metadata": {
    "collapsed": false
   },
   "outputs": [],
   "source": [
    "week= pd.read_csv('hard_drive_data_2016.csv')"
   ]
  },
  {
   "cell_type": "code",
   "execution_count": 46,
   "metadata": {
    "collapsed": false
   },
   "outputs": [],
   "source": [
    "week_X= week[X_reduced.columns]"
   ]
  },
  {
   "cell_type": "code",
   "execution_count": 47,
   "metadata": {
    "collapsed": false
   },
   "outputs": [],
   "source": [
    "week_y= week.failure"
   ]
  },
  {
   "cell_type": "code",
   "execution_count": 48,
   "metadata": {
    "collapsed": false
   },
   "outputs": [
    {
     "data": {
      "text/plain": [
       "((402741, 3), (402741,))"
      ]
     },
     "execution_count": 48,
     "metadata": {},
     "output_type": "execute_result"
    }
   ],
   "source": [
    "np.shape(week_X), np.shape(week_y)"
   ]
  },
  {
   "cell_type": "code",
   "execution_count": 49,
   "metadata": {
    "collapsed": false
   },
   "outputs": [],
   "source": [
    "week_y_pred= model1.predict(week_X)"
   ]
  },
  {
   "cell_type": "code",
   "execution_count": 50,
   "metadata": {
    "collapsed": true
   },
   "outputs": [],
   "source": [
    "week_pred_proba = model1.predict_proba(week_X)"
   ]
  },
  {
   "cell_type": "code",
   "execution_count": 51,
   "metadata": {
    "collapsed": false
   },
   "outputs": [
    {
     "name": "stdout",
     "output_type": "stream",
     "text": [
      "True positive rate: 0.4\n",
      "False positive rate: 0.000458190148912\n"
     ]
    }
   ],
   "source": [
    "prec1 = metrics.precision_score(week_y, week_y_pred)\n",
    "rec1 = metrics.recall_score(week_y, week_y_pred)\n",
    "print ('True positive rate:', rec1)\n",
    "print ('False positive rate:', prec1)"
   ]
  },
  {
   "cell_type": "code",
   "execution_count": null,
   "metadata": {
    "collapsed": false
   },
   "outputs": [],
   "source": []
  },
  {
   "cell_type": "code",
   "execution_count": null,
   "metadata": {
    "collapsed": false
   },
   "outputs": [],
   "source": []
  },
  {
   "cell_type": "code",
   "execution_count": null,
   "metadata": {
    "collapsed": true
   },
   "outputs": [],
   "source": []
  }
 ],
 "metadata": {
  "anaconda-cloud": {},
  "kernelspec": {
   "display_name": "Python [Root]",
   "language": "python",
   "name": "Python [Root]"
  },
  "language_info": {
   "codemirror_mode": {
    "name": "ipython",
    "version": 3
   },
   "file_extension": ".py",
   "mimetype": "text/x-python",
   "name": "python",
   "nbconvert_exporter": "python",
   "pygments_lexer": "ipython3",
   "version": "3.5.2"
  }
 },
 "nbformat": 4,
 "nbformat_minor": 0
}
