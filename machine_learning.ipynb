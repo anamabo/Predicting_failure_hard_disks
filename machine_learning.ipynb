{
 "cells": [
  {
   "cell_type": "code",
   "execution_count": 1,
   "metadata": {
    "collapsed": true
   },
   "outputs": [],
   "source": [
    "import numpy as np\n",
    "import pandas as pd\n",
    "import scipy.stats\n",
    "import matplotlib\n",
    "import matplotlib.pyplot as plt\n",
    "from mpl_toolkits.mplot3d import Axes3D\n",
    "from matplotlib import ticker\n",
    "import seaborn\n",
    "%matplotlib inline\n",
    "\n",
    "## matplotlib settings\n",
    "matplotlib.style.use('ggplot')\n",
    "#plt.rcParams['figure.figsize']=16,10\n",
    "plt.rcParams.update({'font.size': 12, \n",
    "                            'font.family': 'STIXGeneral', \n",
    "                            'mathtext.fontset': 'stix'})\n",
    "# seaborn settings\n",
    "seaborn.set_palette('deep', desat=.6)\n",
    "np.random.seed(123456)"
   ]
  },
  {
   "cell_type": "markdown",
   "metadata": {},
   "source": [
    "<b style= \"font-size: 120%;\">\n",
    "Dataset\n",
    "</b>"
   ]
  },
  {
   "cell_type": "code",
   "execution_count": 2,
   "metadata": {
    "collapsed": true
   },
   "outputs": [],
   "source": [
    "# reading data set\n",
    "data= pd.read_csv('hard_drive_data_2015.csv')\n",
    "data= data.drop('Unnamed: 0', 1)\n",
    "data= data.sort_values(by='date')"
   ]
  },
  {
   "cell_type": "markdown",
   "metadata": {},
   "source": [
    "<b style= \"font-size: 120%;\">\n",
    "Failed and working disks:\n",
    "</b>"
   ]
  },
  {
   "cell_type": "code",
   "execution_count": 3,
   "metadata": {
    "collapsed": true
   },
   "outputs": [],
   "source": [
    "fail= pd.DataFrame(data[data.failure==1]).reset_index()\n",
    "fail= fail.drop('index', axis= 1)"
   ]
  },
  {
   "cell_type": "code",
   "execution_count": 4,
   "metadata": {
    "collapsed": true
   },
   "outputs": [],
   "source": [
    "success= data.groupby(['serial_number']).filter(lambda x: x['failure'].sum()==0) \n",
    "succ= pd.DataFrame(success.groupby(['serial_number']).tail(n=1)).reset_index()\n",
    "succ= succ.drop('index', axis= 1)"
   ]
  },
  {
   "cell_type": "code",
   "execution_count": 5,
   "metadata": {
    "collapsed": true
   },
   "outputs": [],
   "source": [
    "disks= pd.concat([succ, fail], ignore_index=True) "
   ]
  },
  {
   "cell_type": "markdown",
   "metadata": {},
   "source": [
    "<b style= \"font-size: 120%;\">\n",
    "Feature selection\n",
    "</b>"
   ]
  },
  {
   "cell_type": "code",
   "execution_count": 6,
   "metadata": {
    "collapsed": true
   },
   "outputs": [],
   "source": [
    "cols= [c for c in disks.columns if (disks[c].dtype== np.dtype('O'))]\n",
    "cols.append('failure')"
   ]
  },
  {
   "cell_type": "code",
   "execution_count": 7,
   "metadata": {
    "collapsed": true
   },
   "outputs": [],
   "source": [
    "X= disks.drop(cols, axis= 1)\n",
    "y= disks.failure"
   ]
  },
  {
   "cell_type": "code",
   "execution_count": 8,
   "metadata": {
    "collapsed": true
   },
   "outputs": [],
   "source": [
    "# Build a forest and compute the feature importances\n",
    "from sklearn.ensemble import ExtraTreesClassifier\n",
    "from sklearn.feature_selection import SelectFromModel"
   ]
  },
  {
   "cell_type": "code",
   "execution_count": 9,
   "metadata": {
    "collapsed": false
   },
   "outputs": [],
   "source": [
    "forest = ExtraTreesClassifier(n_estimators=250,random_state=0)"
   ]
  },
  {
   "cell_type": "code",
   "execution_count": 10,
   "metadata": {
    "collapsed": false
   },
   "outputs": [
    {
     "data": {
      "text/plain": [
       "ExtraTreesClassifier(bootstrap=False, class_weight=None, criterion='gini',\n",
       "           max_depth=None, max_features='auto', max_leaf_nodes=None,\n",
       "           min_samples_leaf=1, min_samples_split=2,\n",
       "           min_weight_fraction_leaf=0.0, n_estimators=250, n_jobs=1,\n",
       "           oob_score=False, random_state=0, verbose=0, warm_start=False)"
      ]
     },
     "execution_count": 10,
     "metadata": {},
     "output_type": "execute_result"
    }
   ],
   "source": [
    "forest.fit(X,y)"
   ]
  },
  {
   "cell_type": "code",
   "execution_count": 11,
   "metadata": {
    "collapsed": false
   },
   "outputs": [
    {
     "data": {
      "text/plain": [
       "array([  3.03000157e-02,   6.69683456e-02,   1.17213019e-01,\n",
       "         6.20374970e-02,   3.12519465e-02,   4.82469191e-02,\n",
       "         1.14061727e-01,   9.66115497e-02,   2.03172669e-01,\n",
       "         2.20203469e-05,   1.04413368e-01,   6.27747822e-02,\n",
       "         6.29261405e-02])"
      ]
     },
     "execution_count": 11,
     "metadata": {},
     "output_type": "execute_result"
    }
   ],
   "source": [
    "imp_features= forest.feature_importances_\n",
    "imp_features"
   ]
  },
  {
   "cell_type": "code",
   "execution_count": 12,
   "metadata": {
    "collapsed": false
   },
   "outputs": [],
   "source": [
    "# each estimator has a feature importance\n",
    "std = np.std([tree.feature_importances_ for tree in forest.estimators_],\n",
    "             axis=0)"
   ]
  },
  {
   "cell_type": "code",
   "execution_count": 13,
   "metadata": {
    "collapsed": false
   },
   "outputs": [
    {
     "data": {
      "text/plain": [
       "array([ 8,  2,  6, 10,  7,  1, 12, 11,  3,  5,  4,  0,  9])"
      ]
     },
     "execution_count": 13,
     "metadata": {},
     "output_type": "execute_result"
    }
   ],
   "source": [
    "indices = np.argsort(imp_features)[::-1] # order of importance\n",
    "indices"
   ]
  },
  {
   "cell_type": "code",
   "execution_count": 14,
   "metadata": {
    "collapsed": false
   },
   "outputs": [],
   "source": [
    "colum_labels= np.array(['capacity_bytes', 'Read error rate (normalized)', \n",
    " 'Read error rate (raw)', 'spin-up time (normalized)',\n",
    " 'spin-up time (raw)', 'Reallocated sectors counts (normalized)',\n",
    " 'Reallocated sectors counts (raw)', 'Running time (normalized)',\n",
    " 'Running time (raw)', 'Power cycle count (normalized)',\n",
    " 'Power cycle count (raw)', 'Internal temperature (normalized)',\n",
    " 'Internal temperature (raw)'])"
   ]
  },
  {
   "cell_type": "code",
   "execution_count": 15,
   "metadata": {
    "collapsed": false
   },
   "outputs": [
    {
     "data": {
      "image/png": "[encoded data removed]",
      "text/plain": [
       "<matplotlib.figure.Figure at 0x11c1a4160>"
      ]
     },
     "metadata": {},
     "output_type": "display_data"
    },
    {
     "name": "stdout",
     "output_type": "stream",
     "text": [
      "Feature ranking:\n",
      "feature 8 (0.203173)\n",
      "feature 2 (0.117213)\n",
      "feature 6 (0.114062)\n",
      "feature 10 (0.104413)\n",
      "feature 7 (0.096612)\n",
      "feature 1 (0.066968)\n",
      "feature 12 (0.062926)\n",
      "feature 11 (0.062775)\n",
      "feature 3 (0.062037)\n",
      "feature 5 (0.048247)\n",
      "feature 4 (0.031252)\n",
      "feature 0 (0.030300)\n",
      "feature 9 (0.000022)\n"
     ]
    }
   ],
   "source": [
    "plt.figure(figsize= (6,6))\n",
    "\n",
    "plt.barh(range(X.shape[1]), imp_features[indices],\n",
    "       color=\"r\", xerr=std[indices], align=\"center\")\n",
    "#plt.xticks(range(X.shape[1]), indices)\n",
    "#plt.xlim([-1, X.shape[1]])\n",
    "plt.xlim(0, 1.2*max(imp_features))\n",
    "plt.yticks(range(X.shape[1]), colum_labels[indices])\n",
    "plt.xlabel(\"Feature importance\", fontsize=20)\n",
    "plt.savefig('feature_selection.pdf', bbox_inches= 'tight')\n",
    "plt.show()\n",
    "\n",
    "# write these results in the final report\n",
    "print(\"Feature ranking:\")\n",
    "for f in range(X.shape[1]):\n",
    "    print(\"feature %d (%f)\"%(indices[f], imp_features[indices[f]]))"
   ]
  },
  {
   "cell_type": "code",
   "execution_count": 16,
   "metadata": {
    "collapsed": false
   },
   "outputs": [],
   "source": [
    "# reduce X to the feature selection\n",
    "model = SelectFromModel(forest, prefit=True)\n",
    "X_new = pd.DataFrame(model.transform(X), columns= ['smart_1_raw', 'smart_5_raw',\n",
    "                                                  'smart_9_normalized', 'smart_9_raw',\n",
    "                                                  'smart_12_raw']  )\n",
    "y_new= y"
   ]
  },
  {
   "cell_type": "code",
   "execution_count": null,
   "metadata": {
    "collapsed": false
   },
   "outputs": [],
   "source": []
  },
  {
   "cell_type": "markdown",
   "metadata": {},
   "source": [
    "<b style= \"font-size: 140%;\">\n",
    "Fraction of failed and working disks:<br>\n",
    "(Unbalanced samples)\n",
    "</b>"
   ]
  },
  {
   "cell_type": "code",
   "execution_count": 17,
   "metadata": {
    "collapsed": true
   },
   "outputs": [],
   "source": [
    "Xy_new= pd.concat([X_new, y_new], axis= 1) # this is the  first set to work with"
   ]
  },
  {
   "cell_type": "code",
   "execution_count": 26,
   "metadata": {
    "collapsed": false
   },
   "outputs": [
    {
     "name": "stdout",
     "output_type": "stream",
     "text": [
      "Fraction of failed disks: 2.3 %\n",
      "Fraction of working disks: 97.7 %\n"
     ]
    }
   ],
   "source": [
    "Xy_new_fail= Xy_new[Xy_new.failure==1]\n",
    "Xy_new_succ= Xy_new[Xy_new.failure== 0]\n",
    "sd= len(Xy_new_succ)\n",
    "fd= len(Xy_new_fail)\n",
    "tot= sd+fd\n",
    "print ('Fraction of failed disks:', np.round(fd/tot*100, 1), '%')\n",
    "print ('Fraction of working disks:', np.round(sd/tot*100, 1), '%')"
   ]
  },
  {
   "cell_type": "markdown",
   "metadata": {},
   "source": [
    "<p style= \"font-size: 120%;\">\n",
    "Clearly this is an unbalanced classification problem. This is solved by oversampling the minority class or by undersampling the majority class. I will use the new datasets: Xy_new_fail, Xy_new_succ .\n",
    "</p>"
   ]
  },
  {
   "cell_type": "code",
   "execution_count": null,
   "metadata": {
    "collapsed": true
   },
   "outputs": [],
   "source": []
  },
  {
   "cell_type": "markdown",
   "metadata": {},
   "source": [
    "<b style= \"font-size: 140%;\">\n",
    "Oversampling:\n",
    "</b>\n",
    "\n",
    "The oversampling is done such that the percentages of the failed and working disks in the new sample will be 40% and 60% respectively."
   ]
  },
  {
   "cell_type": "code",
   "execution_count": 27,
   "metadata": {
    "collapsed": false
   },
   "outputs": [],
   "source": [
    "# number of elements for the minority class (failed disks):\n",
    "num_elements= int( (2./3)*sd)"
   ]
  },
  {
   "cell_type": "code",
   "execution_count": 28,
   "metadata": {
    "collapsed": false
   },
   "outputs": [],
   "source": [
    "failed_oversample= Xy_new_fail.sample(n= num_elements, replace=True, random_state= 123456)\n",
    "succ_oversample=  Xy_new_succ.copy()"
   ]
  },
  {
   "cell_type": "code",
   "execution_count": 30,
   "metadata": {
    "collapsed": false
   },
   "outputs": [
    {
     "name": "stdout",
     "output_type": "stream",
     "text": [
      "Fraction of failed disks after oversampling: 40.0 %\n",
      "Fraction of working disks after oversampling: 60.0 %\n"
     ]
    }
   ],
   "source": [
    "# percentages:\n",
    "fd1= np.shape(failed_oversample)[0]\n",
    "sd1= np.shape(succ_oversample)[0]\n",
    "tot= (fd1+sd1)\n",
    "print ('Fraction of failed disks after oversampling:', np.round((fd1/tot*100),1 ), '%')\n",
    "print ('Fraction of working disks after oversampling:', np.round(sd1/tot*100,1), '%')"
   ]
  },
  {
   "cell_type": "code",
   "execution_count": null,
   "metadata": {
    "collapsed": true
   },
   "outputs": [],
   "source": []
  },
  {
   "cell_type": "markdown",
   "metadata": {},
   "source": [
    "<b style= \"font-size: 140%;\">\n",
    "Subsampling:\n",
    "</b>\n"
   ]
  },
  {
   "cell_type": "code",
   "execution_count": 32,
   "metadata": {
    "collapsed": false
   },
   "outputs": [
    {
     "data": {
      "text/plain": [
       "(43, 1428)"
      ]
     },
     "execution_count": 32,
     "metadata": {},
     "output_type": "execute_result"
    }
   ],
   "source": [
    "int(sd/fd), fd #-> number of subsamples, elements in each subsample"
   ]
  },
  {
   "cell_type": "code",
   "execution_count": null,
   "metadata": {
    "collapsed": false
   },
   "outputs": [],
   "source": []
  },
  {
   "cell_type": "code",
   "execution_count": null,
   "metadata": {
    "collapsed": true
   },
   "outputs": [],
   "source": []
  },
  {
   "cell_type": "code",
   "execution_count": null,
   "metadata": {
    "collapsed": true
   },
   "outputs": [],
   "source": []
  },
  {
   "cell_type": "code",
   "execution_count": null,
   "metadata": {
    "collapsed": true
   },
   "outputs": [],
   "source": []
  },
  {
   "cell_type": "code",
   "execution_count": null,
   "metadata": {
    "collapsed": true
   },
   "outputs": [],
   "source": []
  }
 ],
 "metadata": {
  "anaconda-cloud": {},
  "kernelspec": {
   "display_name": "Python [Root]",
   "language": "python",
   "name": "Python [Root]"
  },
  "language_info": {
   "codemirror_mode": {
    "name": "ipython",
    "version": 3
   },
   "file_extension": ".py",
   "mimetype": "text/x-python",
   "name": "python",
   "nbconvert_exporter": "python",
   "pygments_lexer": "ipython3",
   "version": "3.5.2"
  }
 },
 "nbformat": 4,
 "nbformat_minor": 0
}
